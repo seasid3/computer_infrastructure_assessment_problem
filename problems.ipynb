{
 "cells": [
  {
   "cell_type": "markdown",
   "id": "c5cdebbd",
   "metadata": {},
   "source": [
    "# Assessment for Computer Infrastrucure Module"
   ]
  },
  {
   "cell_type": "markdown",
   "id": "442dbfae",
   "metadata": {},
   "source": [
    "## Problem 1: Data from yfinance"
   ]
  },
  {
   "cell_type": "markdown",
   "id": "97296bc4",
   "metadata": {},
   "source": [
    "Using yfinance[https://github.com/ranaroussi/yfinance] Python package, write a function that downloads all hourly data for the previous five days for the five FAANG stocks:\n",
    "- Facebook (META)\n",
    "- Apple (AAPL)\n",
    "- Amazon (AMZN)\n",
    "- Netflix (NFLX)\n",
    "- Google (GOOG)"
   ]
  },
  {
   "cell_type": "code",
   "execution_count": 1,
   "id": "c19b4adf",
   "metadata": {},
   "outputs": [],
   "source": [
    "# Import modules\n",
    "\n",
    "# Dates and times\n",
    "import datetime as dt\n",
    "\n",
    "# Import pandas\n",
    "import pandas as pd\n",
    "\n",
    "# Import yFinance (Yahoo Finance    \n",
    "import yfinance as yf"
   ]
  },
  {
   "cell_type": "markdown",
   "id": "a90af703",
   "metadata": {},
   "source": [
    "### Download historical data for the five companies"
   ]
  },
  {
   "cell_type": "code",
   "execution_count": 2,
   "id": "53910cd8",
   "metadata": {},
   "outputs": [
    {
     "name": "stderr",
     "output_type": "stream",
     "text": [
      "C:\\Users\\orlaw\\AppData\\Local\\Temp\\ipykernel_18560\\316594091.py:5: FutureWarning: YF.download() has changed argument auto_adjust default to True\n",
      "  df = yf.download(['META', 'AAPL', 'AMZN', 'NFLX', 'GOOGL'], period = '5d', interval='1h')\n",
      "[*********************100%***********************]  5 of 5 completed\n"
     ]
    }
   ],
   "source": [
    "# Get data for the five companies (multiple tickers at once), using \n",
    "# df to persist the data frame\n",
    "# https://ranaroussi.github.io/yfinance/\n",
    "\n",
    "df = yf.download(['META', 'AAPL', 'AMZN', 'NFLX', 'GOOGL'], period = '5d', interval='1h')"
   ]
  },
  {
   "cell_type": "code",
   "execution_count": 3,
   "id": "889a0805",
   "metadata": {},
   "outputs": [
    {
     "data": {
      "text/plain": [
       "MultiIndex([( 'Close',  'AAPL'),\n",
       "            ( 'Close',  'AMZN'),\n",
       "            ( 'Close', 'GOOGL'),\n",
       "            ( 'Close',  'META'),\n",
       "            ( 'Close',  'NFLX'),\n",
       "            (  'High',  'AAPL'),\n",
       "            (  'High',  'AMZN'),\n",
       "            (  'High', 'GOOGL'),\n",
       "            (  'High',  'META'),\n",
       "            (  'High',  'NFLX'),\n",
       "            (   'Low',  'AAPL'),\n",
       "            (   'Low',  'AMZN'),\n",
       "            (   'Low', 'GOOGL'),\n",
       "            (   'Low',  'META'),\n",
       "            (   'Low',  'NFLX'),\n",
       "            (  'Open',  'AAPL'),\n",
       "            (  'Open',  'AMZN'),\n",
       "            (  'Open', 'GOOGL'),\n",
       "            (  'Open',  'META'),\n",
       "            (  'Open',  'NFLX'),\n",
       "            ('Volume',  'AAPL'),\n",
       "            ('Volume',  'AMZN'),\n",
       "            ('Volume', 'GOOGL'),\n",
       "            ('Volume',  'META'),\n",
       "            ('Volume',  'NFLX')],\n",
       "           names=['Price', 'Ticker'])"
      ]
     },
     "execution_count": 3,
     "metadata": {},
     "output_type": "execute_result"
    }
   ],
   "source": [
    "# Display the columns of the dataframe\n",
    "# https://pandas.pydata.org/docs/reference/api/pandas.DataFrame.columns.html\n",
    "df.columns"
   ]
  },
  {
   "cell_type": "code",
   "execution_count": 4,
   "id": "5285f311",
   "metadata": {},
   "outputs": [
    {
     "data": {
      "text/plain": [
       "DatetimeIndex(['2025-10-20 13:30:00+00:00', '2025-10-20 14:30:00+00:00',\n",
       "               '2025-10-20 15:30:00+00:00', '2025-10-20 16:30:00+00:00',\n",
       "               '2025-10-20 17:30:00+00:00', '2025-10-20 18:30:00+00:00',\n",
       "               '2025-10-20 19:30:00+00:00', '2025-10-21 13:30:00+00:00',\n",
       "               '2025-10-21 14:30:00+00:00', '2025-10-21 15:30:00+00:00',\n",
       "               '2025-10-21 16:30:00+00:00', '2025-10-21 17:30:00+00:00',\n",
       "               '2025-10-21 18:30:00+00:00', '2025-10-21 19:30:00+00:00',\n",
       "               '2025-10-22 13:30:00+00:00', '2025-10-22 14:30:00+00:00',\n",
       "               '2025-10-22 15:30:00+00:00', '2025-10-22 16:30:00+00:00',\n",
       "               '2025-10-22 17:30:00+00:00', '2025-10-22 18:30:00+00:00',\n",
       "               '2025-10-22 19:30:00+00:00', '2025-10-23 13:30:00+00:00',\n",
       "               '2025-10-23 14:30:00+00:00', '2025-10-23 15:30:00+00:00',\n",
       "               '2025-10-23 16:30:00+00:00', '2025-10-23 17:30:00+00:00',\n",
       "               '2025-10-23 18:30:00+00:00', '2025-10-23 19:30:00+00:00',\n",
       "               '2025-10-24 13:30:00+00:00', '2025-10-24 14:30:00+00:00',\n",
       "               '2025-10-24 15:30:00+00:00', '2025-10-24 16:30:00+00:00',\n",
       "               '2025-10-24 17:30:00+00:00', '2025-10-24 18:30:00+00:00',\n",
       "               '2025-10-24 19:30:00+00:00'],\n",
       "              dtype='datetime64[ns, UTC]', name='Datetime', freq=None)"
      ]
     },
     "execution_count": 4,
     "metadata": {},
     "output_type": "execute_result"
    }
   ],
   "source": [
    "# Show the index\n",
    "#' https://pandas.pydata.org/docs/reference/api/pandas.DataFrame.index.html\n",
    "df.index"
   ]
  },
  {
   "cell_type": "code",
   "execution_count": 5,
   "id": "7e5f56f0",
   "metadata": {},
   "outputs": [
    {
     "data": {
      "text/plain": [
       "datetime.datetime(2025, 10, 26, 13, 23, 32, 815982)"
      ]
     },
     "execution_count": 5,
     "metadata": {},
     "output_type": "execute_result"
    }
   ],
   "source": [
    "# Find current data and time\n",
    "# https://docs.python.org/3/library/datetime.html\n",
    "now = dt.datetime.now()\n",
    "\n",
    "# Show\n",
    "now"
   ]
  },
  {
   "cell_type": "code",
   "execution_count": 6,
   "id": "4d652c36",
   "metadata": {},
   "outputs": [
    {
     "data": {
      "text/plain": [
       "'20251026-132332'"
      ]
     },
     "execution_count": 6,
     "metadata": {},
     "output_type": "execute_result"
    }
   ],
   "source": [
    "# Fornmat data and time\n",
    "# https://docs.python.org/3/library/datetime.html\n",
    "\n",
    "now.strftime(\"%Y%m%d-%H%M%S\")"
   ]
  },
  {
   "cell_type": "code",
   "execution_count": 7,
   "id": "0a4bdddd",
   "metadata": {},
   "outputs": [],
   "source": [
    "# Save data as CSV, changing the file name to include date and time\n",
    "# https://pandas.pydata.org/docs/reference/api/pandas.DataFrame.to_csv.html\n",
    "\n",
    "df.to_csv(\"data/\" + now.strftime(\"%Y%m%d-%H%M%S\") + \".csv\")"
   ]
  },
  {
   "cell_type": "markdown",
   "id": "bf3591bf",
   "metadata": {},
   "source": [
    "## Problem 2\n"
   ]
  },
  {
   "cell_type": "markdown",
   "id": "0e2253d1",
   "metadata": {},
   "source": [
    "## END"
   ]
  }
 ],
 "metadata": {
  "kernelspec": {
   "display_name": "sci_env",
   "language": "python",
   "name": "python3"
  },
  "language_info": {
   "codemirror_mode": {
    "name": "ipython",
    "version": 3
   },
   "file_extension": ".py",
   "mimetype": "text/x-python",
   "name": "python",
   "nbconvert_exporter": "python",
   "pygments_lexer": "ipython3",
   "version": "3.12.11"
  }
 },
 "nbformat": 4,
 "nbformat_minor": 5
}
